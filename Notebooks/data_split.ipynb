{
 "cells": [
  {
   "cell_type": "code",
   "execution_count": 9,
   "id": "de901ec9",
   "metadata": {},
   "outputs": [],
   "source": [
    "from PIL import Image\n",
    "import glob\n",
    "from pathlib import Path\n",
    "import os \n",
    "import random\n",
    "import shutil\n"
   ]
  },
  {
   "cell_type": "code",
   "execution_count": 10,
   "id": "e639a500",
   "metadata": {},
   "outputs": [],
   "source": [
    "cwd = Path.cwd()\n",
    "parent = cwd.parent\n",
    "\n",
    "shiba_input_dir  = os.path.join(parent, \"data\", \"Raw_data\",\"shiba\")\n",
    "akita_input_dir  = os.path.join(parent, \"data\", \"Raw_data\",\"akita\")\n",
    "\n",
    "\n",
    "shiba_train_dir  = os.path.join(parent, \"data\", \"Train\",\"shiba\")\n",
    "akita_train_dir  = os.path.join(parent, \"data\", \"Train\",\"akita\")\n",
    "\n",
    "shiba_val_dir  = os.path.join(parent, \"data\", \"Val\",\"shiba\")\n",
    "akita_val_dir  = os.path.join(parent, \"data\", \"Val\",\"akita\")\n",
    "\n",
    "shiba_test_dir  = os.path.join(parent, \"data\", \"Test\",\"shiba\")\n",
    "akita_test_dir  = os.path.join(parent, \"data\", \"Test\",\"akita\")\n",
    "\n",
    "\n"
   ]
  },
  {
   "cell_type": "code",
   "execution_count": 11,
   "id": "038b5423",
   "metadata": {},
   "outputs": [],
   "source": [
    "train_ratio = 0.7\n",
    "val_ratio = 0.15\n",
    "test_ratio = 0.15"
   ]
  },
  {
   "cell_type": "code",
   "execution_count": 12,
   "id": "d075ab8c",
   "metadata": {},
   "outputs": [],
   "source": [
    "shiba_image_files = [f for f in os.listdir(shiba_input_dir) if f.endswith('.jpg') or f.endswith('.png')]\n",
    "akita_image_files = [f for f in os.listdir(akita_input_dir) if f.endswith('.jpg') or f.endswith('.png')]"
   ]
  },
  {
   "cell_type": "code",
   "execution_count": 13,
   "id": "a42353cb",
   "metadata": {},
   "outputs": [],
   "source": [
    "random.seed(123)\n",
    "random.shuffle(shiba_image_files)\n",
    "random.shuffle(akita_image_files)\n"
   ]
  },
  {
   "cell_type": "code",
   "execution_count": 14,
   "id": "6325683b",
   "metadata": {},
   "outputs": [],
   "source": [
    "shiba_train_indices = int(len(shiba_image_files) * train_ratio)\n",
    "shiba_val_indices = int(len(shiba_image_files) * (train_ratio + val_ratio))\n",
    "shiba_test_indices = int(len(shiba_image_files) * (train_ratio + val_ratio + test_ratio))\n",
    "\n",
    "akita_train_indices = int(len(akita_image_files) * train_ratio)\n",
    "akita_val_indices = int(len(akita_image_files) * (train_ratio + val_ratio))\n",
    "akita_test_indices = int(len(akita_image_files) * (train_ratio + val_ratio + test_ratio))"
   ]
  },
  {
   "cell_type": "code",
   "execution_count": 15,
   "id": "d414fadb",
   "metadata": {},
   "outputs": [],
   "source": [
    "shiba_train_files = shiba_image_files[:shiba_train_indices]\n",
    "shiba_val_files = shiba_image_files[shiba_train_indices:shiba_val_indices]\n",
    "shiba_test_files = shiba_image_files[shiba_val_indices:]\n",
    "\n",
    "akita_train_files = akita_image_files[:akita_train_indices]\n",
    "akita_val_files = akita_image_files[akita_train_indices:akita_val_indices]\n",
    "akita_test_files = akita_image_files[akita_val_indices:]"
   ]
  },
  {
   "cell_type": "code",
   "execution_count": 16,
   "id": "0c51940b",
   "metadata": {},
   "outputs": [],
   "source": [
    "for file in shiba_train_files:\n",
    "    shutil.copy(os.path.join(shiba_input_dir, file), os.path.join(shiba_train_dir, file))\n",
    "    shiba_image_files.remove(file)\n",
    "\n",
    "for file in shiba_val_files:\n",
    "    shutil.copy(os.path.join(shiba_input_dir, file), os.path.join(shiba_val_dir, file))\n",
    "    shiba_image_files.remove(file)\n",
    "\n",
    "for file in shiba_test_files:\n",
    "    shutil.copy(os.path.join(shiba_input_dir, file), os.path.join(shiba_test_dir, file))\n",
    "    shiba_image_files.remove(file)\n",
    "\n",
    "for file in akita_train_files:\n",
    "    shutil.copy(os.path.join(akita_input_dir, file), os.path.join(akita_train_dir, file))\n",
    "    akita_image_files.remove(file)\n",
    "\n",
    "for file in akita_val_files:\n",
    "    shutil.copy(os.path.join(akita_input_dir, file), os.path.join(akita_val_dir, file))\n",
    "    akita_image_files.remove(file)\n",
    "\n",
    "\n",
    "for file in akita_test_files:\n",
    "    shutil.copy(os.path.join(akita_input_dir, file), os.path.join(akita_test_dir, file))\n",
    "    akita_image_files.remove(file)"
   ]
  }
 ],
 "metadata": {
  "kernelspec": {
   "display_name": "shiba_akita",
   "language": "python",
   "name": "python3"
  },
  "language_info": {
   "codemirror_mode": {
    "name": "ipython",
    "version": 3
   },
   "file_extension": ".py",
   "mimetype": "text/x-python",
   "name": "python",
   "nbconvert_exporter": "python",
   "pygments_lexer": "ipython3",
   "version": "3.11.13"
  }
 },
 "nbformat": 4,
 "nbformat_minor": 5
}
